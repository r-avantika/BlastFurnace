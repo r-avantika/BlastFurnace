{
 "cells": [
  {
   "cell_type": "markdown",
   "metadata": {},
   "source": [
    "# Assumptions\n",
    "\n",
    "1. Steady-state conditions\n",
    "2. Pressure is 1 bar\n",
    "3. Gas behaves ideally\n",
    "4. Ore only contains SiO2 and Al2O3 impurities\n",
    "5. Conventional blast furnace\n",
    "6. SiO2 and Al2O3 is unreactive\n",
    "7. Incompressible Solids and Liquids\n",
    "8. SI units is used for rates i.e. mol/s and m^3/s and the time unit used for tons is hour except for biomass\n",
    "9. All of oxygen is converted"
   ]
  },
  {
   "cell_type": "code",
   "execution_count": 1,
   "metadata": {},
   "outputs": [],
   "source": [
    "import pandas as pd \n",
    "import matplotlib.pyplot as plt\n",
    "plt.rcParams['savefig.dpi'] = 300\n",
    "import numpy as np\n",
    "from numpy.polynomial.polynomial import polyfit\n",
    "import sympy as sym\n",
    "import scipy.constants as spc\n",
    "from IPython.display import display"
   ]
  },
  {
   "cell_type": "markdown",
   "metadata": {},
   "source": [
    "# Molecular weight of chemicals in the blast furnace"
   ]
  },
  {
   "cell_type": "code",
   "execution_count": 2,
   "metadata": {},
   "outputs": [],
   "source": [
    "mol_weight_fe = 55.845 # in grams/mol\n",
    "mol_weight_fe2o3 = 12.01070 # in grams/mol \n",
    "mol_weight_c = 60.0843 # in grams/mol\n",
    "mol_weight_co = 28.0101 # in grams/mol\n",
    "mol_weight_co2 = 44.0095 # in grams/mol\n",
    "mol_weight_n2 = 28.01340 # in grams/mol\n",
    "mol_weight_o2 = 31.99880 # in grams/mol\n",
    "mol_weight_al2o3 = 101.96128 # in grams/mol\n",
    "mol_weight_sio2 = 60.0843 # in grams/mol"
   ]
  },
  {
   "cell_type": "markdown",
   "metadata": {},
   "source": [
    "# Mass Balance Analysis\n",
    "species are placed together on the basis of the Fig"
   ]
  },
  {
   "cell_type": "code",
   "execution_count": 3,
   "metadata": {},
   "outputs": [
    {
     "data": {
      "text/plain": [
       "[(ne1_fe2o3, ne1_sio2, ne1_al2o3),\n",
       " (ne2_o2, ne2_n2),\n",
       " (ne3_c, ne3_sio2),\n",
       " (ns4_co, ns4_co2, ns4_n2),\n",
       " (ns5_fe, ns5_c),\n",
       " (ns6_sio2, ns6_al2o3)]"
      ]
     },
     "metadata": {},
     "output_type": "display_data"
    }
   ],
   "source": [
    "blast_furnace = []\n",
    "blast_furnace.append(sym.var('ne1_fe2o3 ne1_sio2 ne1_al2o3')) # entry 1\n",
    "blast_furnace.append(sym.var('ne2_o2 ne2_n2')) # entry 2\n",
    "blast_furnace.append(sym.var('ne3_c ne3_sio2')) # entry 3\n",
    "blast_furnace.append(sym.var('ns4_co ns4_co2 ns4_n2')) # split 4\n",
    "blast_furnace.append(sym.var('ns5_fe ns5_c')) # split 5\n",
    "blast_furnace.append(sym.var('ns6_sio2 ns6_al2o3')) # split 6\n",
    "\n",
    "display(blast_furnace)"
   ]
  },
  {
   "cell_type": "markdown",
   "metadata": {},
   "source": [
    "### Number of equations\n",
    "this is the basis of the mass balance equation. This will be the generation and consumption ratio present for each species."
   ]
  },
  {
   "cell_type": "code",
   "execution_count": 4,
   "metadata": {},
   "outputs": [
    {
     "data": {
      "text/plain": [
       "[(X1, X2, X3)]"
      ]
     },
     "metadata": {},
     "output_type": "display_data"
    }
   ],
   "source": [
    "ratio = [sym.var('X1 X2 X3')]\n",
    "\n",
    "display(ratio)\n",
    "for r in ratio:\n",
    "    length = len(r)"
   ]
  },
  {
   "cell_type": "code",
   "execution_count": 5,
   "metadata": {},
   "outputs": [
    {
     "data": {
      "text/plain": [
       "[X1,\n",
       " X2,\n",
       " X3,\n",
       " ne1_fe2o3,\n",
       " ne1_sio2,\n",
       " ne1_al2o3,\n",
       " ne2_o2,\n",
       " ne2_n2,\n",
       " ne3_c,\n",
       " ne3_sio2,\n",
       " ns4_co,\n",
       " ns4_co2,\n",
       " ns4_n2,\n",
       " ns5_fe,\n",
       " ns5_c,\n",
       " ns6_sio2,\n",
       " ns6_al2o3]"
      ]
     },
     "metadata": {},
     "output_type": "display_data"
    }
   ],
   "source": [
    "variables =[]\n",
    "for x in ratio:\n",
    "    for i in x:\n",
    "        variables.append(i)\n",
    "for b in blast_furnace:\n",
    "    for v in b:\n",
    "        variables.append(v)\n",
    "        \n",
    "display(variables)"
   ]
  },
  {
   "cell_type": "markdown",
   "metadata": {},
   "source": [
    "## Mass Balance Equations\n",
    "All the species have a equation that will be used to solve their unknown values. There are also relations which give more relationships between the species. These are assumptions that are being made about the volume ratio, molar weight percent composition etc..."
   ]
  },
  {
   "cell_type": "code",
   "execution_count": 6,
   "metadata": {
    "scrolled": false
   },
   "outputs": [
    {
     "data": {
      "text/latex": [
       "$\\displaystyle 0 = - X_{1} + ne_{1 fe2o3}$"
      ],
      "text/plain": [
       "Eq(0, -X1 + ne1_fe2o3)"
      ]
     },
     "metadata": {},
     "output_type": "display_data"
    },
    {
     "data": {
      "text/latex": [
       "$\\displaystyle 0 = - 3 X_{1} + 2 X_{2} - ns_{4 co}$"
      ],
      "text/plain": [
       "Eq(0, -3*X1 + 2*X2 - ns4_co)"
      ]
     },
     "metadata": {},
     "output_type": "display_data"
    },
    {
     "data": {
      "text/latex": [
       "$\\displaystyle 0 = 2 X_{1} - ns_{5 fe}$"
      ],
      "text/plain": [
       "Eq(0, 2*X1 - ns5_fe)"
      ]
     },
     "metadata": {},
     "output_type": "display_data"
    },
    {
     "data": {
      "text/latex": [
       "$\\displaystyle 0 = 3 X_{1} - X_{2} + X_{3} - ns_{4 co2}$"
      ],
      "text/plain": [
       "Eq(0, 3*X1 - X2 + X3 - ns4_co2)"
      ]
     },
     "metadata": {},
     "output_type": "display_data"
    },
    {
     "data": {
      "text/latex": [
       "$\\displaystyle 0 = - X_{2} - X_{3} + ne_{3 c} - ns_{5 c}$"
      ],
      "text/plain": [
       "Eq(0, -X2 - X3 + ne3_c - ns5_c)"
      ]
     },
     "metadata": {},
     "output_type": "display_data"
    },
    {
     "data": {
      "text/latex": [
       "$\\displaystyle 0 = - X_{3} + ne_{2 o2}$"
      ],
      "text/plain": [
       "Eq(0, -X3 + ne2_o2)"
      ]
     },
     "metadata": {},
     "output_type": "display_data"
    },
    {
     "data": {
      "text/latex": [
       "$\\displaystyle 0 = ne_{2 n2} - ns_{4 n2}$"
      ],
      "text/plain": [
       "Eq(0, ne2_n2 - ns4_n2)"
      ]
     },
     "metadata": {},
     "output_type": "display_data"
    },
    {
     "data": {
      "text/latex": [
       "$\\displaystyle 0 = ne_{1 sio2} + ne_{3 sio2} - ns_{6 sio2}$"
      ],
      "text/plain": [
       "Eq(0, ne1_sio2 + ne3_sio2 - ns6_sio2)"
      ]
     },
     "metadata": {},
     "output_type": "display_data"
    },
    {
     "data": {
      "text/latex": [
       "$\\displaystyle 0 = ne_{1 al2o3} - ns_{6 al2o3}$"
      ],
      "text/plain": [
       "Eq(0, ne1_al2o3 - ns6_al2o3)"
      ]
     },
     "metadata": {},
     "output_type": "display_data"
    },
    {
     "data": {
      "text/latex": [
       "$\\displaystyle 1.05 = \\frac{ns_{4 co}}{ns_{4 co2}}$"
      ],
      "text/plain": [
       "Eq(1.05, ns4_co/ns4_co2)"
      ]
     },
     "metadata": {},
     "output_type": "display_data"
    },
    {
     "data": {
      "text/latex": [
       "$\\displaystyle 0.96 = \\frac{12.0107 ne_{1 fe2o3}}{101.96128 ne_{1 al2o3} + 12.0107 ne_{1 fe2o3} + 60.0843 ne_{1 sio2}}$"
      ],
      "text/plain": [
       "Eq(0.96, 12.0107*ne1_fe2o3/(101.96128*ne1_al2o3 + 12.0107*ne1_fe2o3 + 60.0843*ne1_sio2))"
      ]
     },
     "metadata": {},
     "output_type": "display_data"
    },
    {
     "data": {
      "text/latex": [
       "$\\displaystyle 0.03 = \\frac{60.0843 ne_{1 sio2}}{101.96128 ne_{1 al2o3} + 12.0107 ne_{1 fe2o3} + 60.0843 ne_{1 sio2}}$"
      ],
      "text/plain": [
       "Eq(0.03, 60.0843*ne1_sio2/(101.96128*ne1_al2o3 + 12.0107*ne1_fe2o3 + 60.0843*ne1_sio2))"
      ]
     },
     "metadata": {},
     "output_type": "display_data"
    },
    {
     "data": {
      "text/latex": [
       "$\\displaystyle 0.98 = \\frac{60.0843 ne_{3 c}}{60.0843 ne_{3 c} + 60.0843 ne_{3 sio2}}$"
      ],
      "text/plain": [
       "Eq(0.98, 60.0843*ne3_c/(60.0843*ne3_c + 60.0843*ne3_sio2))"
      ]
     },
     "metadata": {},
     "output_type": "display_data"
    },
    {
     "data": {
      "text/latex": [
       "$\\displaystyle 0.05 = \\frac{60.0843 ns_{5 c}}{60.0843 ns_{5 c} + 55.845 ns_{5 fe}}$"
      ],
      "text/plain": [
       "Eq(0.05, 60.0843*ns5_c/(60.0843*ns5_c + 55.845*ns5_fe))"
      ]
     },
     "metadata": {},
     "output_type": "display_data"
    }
   ],
   "source": [
    "chemical = [\n",
    "    sym.Eq(0, ne1_fe2o3 - X1),\n",
    "    sym.Eq(0, 2*X2 - ns4_co - 3*X1),\n",
    "    sym.Eq(0, 2*X1 - ns5_fe),\n",
    "    sym.Eq(0, 3*X1 - ns4_co2 - X2 + X3),\n",
    "    sym.Eq(0, ne3_c - ns5_c - X2 - X3),\n",
    "    sym.Eq(0, ne2_o2 - X3),\n",
    "    sym.Eq(0, ne2_n2 - ns4_n2),\n",
    "    sym.Eq(0, ne1_sio2 + ne3_sio2 - ns6_sio2),\n",
    "    sym.Eq(0, ne1_al2o3 - ns6_al2o3 )]\n",
    "\n",
    "relations = [\n",
    "    sym.Eq(1.05, ns4_co / ns4_co2),\n",
    "    sym.Eq(0.96, ne1_fe2o3*mol_weight_fe2o3 / (ne1_fe2o3*mol_weight_fe2o3 + ne1_sio2*mol_weight_sio2 + ne1_al2o3*mol_weight_al2o3)),\n",
    "    sym.Eq(0.03, ne1_sio2*mol_weight_sio2 / (ne1_fe2o3*mol_weight_fe2o3 + ne1_sio2*mol_weight_sio2 + ne1_al2o3*mol_weight_al2o3)),\n",
    "    sym.Eq(0.98, ne3_c*mol_weight_c / (ne3_c*mol_weight_c + ne3_sio2*mol_weight_sio2)),\n",
    "    sym.Eq(0.05, ns5_c*mol_weight_c / (ns5_c*mol_weight_c + ns5_fe*mol_weight_fe))\n",
    "]\n",
    "mass_balance = chemical + relations\n",
    "for eqn in mass_balance:\n",
    "    display(eqn)"
   ]
  },
  {
   "cell_type": "markdown",
   "metadata": {},
   "source": [
    "### Known Values\n",
    "The values that are known. The ones chosen for this project is the ton of pig iron being produced and the amount of blast air that will be provided."
   ]
  },
  {
   "cell_type": "code",
   "execution_count": 7,
   "metadata": {
    "scrolled": true
   },
   "outputs": [
    {
     "data": {
      "text/latex": [
       "$\\displaystyle ns_{5 fe} = 4.97408501706111$"
      ],
      "text/plain": [
       "Eq(ns5_fe, 4.97408501706111)"
      ]
     },
     "metadata": {},
     "output_type": "display_data"
    },
    {
     "data": {
      "text/latex": [
       "$\\displaystyle ne_{2 n2} = 79.7107051052892$"
      ],
      "text/plain": [
       "Eq(ne2_n2, 79.7107051052892)"
      ]
     },
     "metadata": {},
     "output_type": "display_data"
    },
    {
     "data": {
      "text/latex": [
       "$\\displaystyle ne_{2 o2} = 21.1889216102668$"
      ],
      "text/plain": [
       "Eq(ne2_o2, 21.1889216102668)"
      ]
     },
     "metadata": {},
     "output_type": "display_data"
    }
   ],
   "source": [
    "m_fe_ton = 1 # tons/hour\n",
    "f = m_fe_ton*1000000/mol_weight_fe/3600 # mols\n",
    "air_blast_vol = 9000 # m^3/hour\n",
    "pressure = 100000 # Pascals\n",
    "temperature = 298 # Kelvin\n",
    "ne2 = (air_blast_vol*pressure) / (spc.R*temperature*3600) # ideal gas law\n",
    "n = 0.79*ne2 # classical air composition\n",
    "o = 0.21*ne2 \n",
    "\n",
    "known_values = [\n",
    "    sym.Eq(ns5_fe, f),\n",
    "    sym.Eq(ne2_n2, n),\n",
    "    sym.Eq(ne2_o2, o)\n",
    "]\n",
    "for eqn in known_values:\n",
    "    display(eqn)"
   ]
  },
  {
   "cell_type": "markdown",
   "metadata": {},
   "source": [
    "## Degree of Freedom Analysis\n",
    "There needs to be equal amount of unknown variables and equations or the mass balance calculator will not function."
   ]
  },
  {
   "cell_type": "code",
   "execution_count": 8,
   "metadata": {},
   "outputs": [
    {
     "name": "stdout",
     "output_type": "stream",
     "text": [
      "Stream:  1    Variable: ne1_fe2o3\n",
      "Stream:  2    Variable: ne1_sio2\n",
      "Stream:  3    Variable: ne1_al2o3\n",
      "Stream:  4    Variable: ne2_o2\n",
      "Stream:  5    Variable: ne2_n2\n",
      "Stream:  6    Variable: ne3_c\n",
      "Stream:  7    Variable: ne3_sio2\n",
      "Stream:  8    Variable: ns4_co\n",
      "Stream:  9    Variable: ns4_co2\n",
      "Stream: 10    Variable: ns4_n2\n",
      "Stream: 11    Variable: ns5_fe\n",
      "Stream: 12    Variable: ns5_c\n",
      "Stream: 13    Variable: ns6_sio2\n",
      "Stream: 14    Variable: ns6_al2o3\n",
      "\n",
      "3 Number of Equations\n",
      "\n",
      "Equations:  (X1, X2, X3)\n",
      "\n",
      "17 Variables = 14 Blast Furnace Variables + 3 Number of Equations \n",
      "\n"
     ]
    }
   ],
   "source": [
    "nVars = 0\n",
    "for b in blast_furnace:\n",
    "    for v in b:\n",
    "        nVars += 1\n",
    "        print(\"Stream: {0:2d}    Variable: {1:5s}\".format(nVars,v.name))\n",
    "\n",
    "print(\"\\n%d Number of Equations\\n\" % length)\n",
    "for x in ratio:\n",
    "    print(\"Equations: \", *ratio)\n",
    "\n",
    "print(\"\\n%d Variables = %d Blast Furnace Variables + %d Number of Equations \\n\" \\\n",
    "    % (len(variables),nVars,length))"
   ]
  },
  {
   "cell_type": "code",
   "execution_count": 9,
   "metadata": {},
   "outputs": [
    {
     "name": "stdout",
     "output_type": "stream",
     "text": [
      "\n",
      "17 Equations = 14 Mass Balance + 3 Known Values\n",
      "\n",
      "14 Mass Balance\n",
      "\n",
      "Eq(0, -X1 + ne1_fe2o3)\n",
      "Eq(0, -3*X1 + 2*X2 - ns4_co)\n",
      "Eq(0, 2*X1 - ns5_fe)\n",
      "Eq(0, 3*X1 - X2 + X3 - ns4_co2)\n",
      "Eq(0, -X2 - X3 + ne3_c - ns5_c)\n",
      "Eq(0, -X3 + ne2_o2)\n",
      "Eq(0, ne2_n2 - ns4_n2)\n",
      "Eq(0, ne1_sio2 + ne3_sio2 - ns6_sio2)\n",
      "Eq(0, ne1_al2o3 - ns6_al2o3)\n",
      "Eq(1.05, ns4_co/ns4_co2)\n",
      "Eq(0.96, 12.0107*ne1_fe2o3/(101.96128*ne1_al2o3 + 12.0107*ne1_fe2o3 + 60.0843*ne1_sio2))\n",
      "Eq(0.03, 60.0843*ne1_sio2/(101.96128*ne1_al2o3 + 12.0107*ne1_fe2o3 + 60.0843*ne1_sio2))\n",
      "Eq(0.98, 60.0843*ne3_c/(60.0843*ne3_c + 60.0843*ne3_sio2))\n",
      "Eq(0.05, 60.0843*ns5_c/(60.0843*ns5_c + 55.845*ns5_fe))\n",
      "\n",
      "3 Known Values\n",
      "\n",
      "Eq(ns5_fe, 4.97408501706111)\n",
      "Eq(ne2_n2, 79.7107051052892)\n",
      "Eq(ne2_o2, 21.1889216102668)\n"
     ]
    }
   ],
   "source": [
    "equations = mass_balance + known_values\n",
    "print(\"\\n%d Equations = %d Mass Balance + %d Known Values\" \\\n",
    "    % (len(equations),len(mass_balance),len(known_values)))\n",
    "\n",
    "print(\"\\n%d Mass Balance\\n\" % len(mass_balance))\n",
    "for mb in mass_balance:\n",
    "    print(mb)\n",
    "\n",
    "print(\"\\n%d Known Values\\n\" % len(known_values))\n",
    "for kv in known_values:\n",
    "    print(kv)"
   ]
  },
  {
   "cell_type": "markdown",
   "metadata": {},
   "source": [
    "## Solution\n",
    "The solved values of each unknown variable are given below."
   ]
  },
  {
   "cell_type": "code",
   "execution_count": 10,
   "metadata": {},
   "outputs": [
    {
     "name": "stdout",
     "output_type": "stream",
     "text": [
      "Variable X1  :    2.4870\n",
      "Variable X2  :   12.3094\n",
      "Variable X3  :   21.1889\n",
      "Variable ne1_al2o3:    0.0031\n",
      "Variable ne1_fe2o3:    2.4870\n",
      "Variable ne1_sio2:    0.0155\n",
      "Variable ne2_o2:   21.1889\n",
      "Variable ne3_c:   33.7416\n",
      "Variable ne3_sio2:    0.6886\n",
      "Variable ns4_co:   17.1577\n",
      "Variable ns4_co2:   16.3406\n",
      "Variable ns5_c:    0.2433\n",
      "Variable ns5_fe:    4.9741\n",
      "Variable ns6_al2o3:    0.0031\n",
      "Variable ns6_sio2:    0.7041\n",
      "Variable ne2_n2:   79.7107\n",
      "Variable ns4_n2:   79.7107\n"
     ]
    }
   ],
   "source": [
    "soln = sym.solve(mass_balance + known_values)\n",
    "\n",
    "for k in soln.keys():\n",
    "    print(\"Variable {0:4s}:  {1:8.4f}\".format(str(k),round(soln[k],4)))\n"
   ]
  },
  {
   "cell_type": "markdown",
   "metadata": {},
   "source": [
    "### Solution in Tons/hour"
   ]
  },
  {
   "cell_type": "code",
   "execution_count": 11,
   "metadata": {},
   "outputs": [
    {
     "name": "stdout",
     "output_type": "stream",
     "text": [
      "Iron produced every hour: 1.00000000000000\n"
     ]
    }
   ],
   "source": [
    "al2o3_ton_e = soln[ne1_al2o3]*3600*mol_weight_al2o3/1e6\n",
    "fe2o3_ton_e = soln[ne1_fe2o3]*3600*mol_weight_fe2o3/1e6\n",
    "sio2_ton_e1 = soln[ne1_sio2]*3600*mol_weight_sio2/1e6\n",
    "o2_ton_e = soln[ne2_o2]*3600*mol_weight_o2/1e6\n",
    "c_ton_e = soln[ne3_c]*3600*mol_weight_c/1e6\n",
    "sio2_ton_e3 = soln[ne3_sio2]*3600*mol_weight_sio2/1e6\n",
    "co_ton_s = soln[ns4_co]*3600*mol_weight_co/1e6\n",
    "co2_ton_s = soln[ns4_co2]*3600*mol_weight_co2/1e6\n",
    "c_ton_s = soln[ns5_c]*3600*mol_weight_c/1e6\n",
    "fe_ton_s = soln[ns5_fe]*3600*mol_weight_fe/1e6\n",
    "al2o3_ton_s = soln[ns6_al2o3]*3600*mol_weight_al2o3/1e6\n",
    "sio2_ton_s = soln[ns6_sio2]*3600*mol_weight_sio2/1e6\n",
    "n2_ton_e = soln[ne2_n2]*3600*mol_weight_n2/1e6\n",
    "n2_ton_s = soln[ns4_n2]*3600*mol_weight_n2/1e6\n",
    "\n",
    "print(\"Iron produced every hour:\", fe_ton_s)"
   ]
  },
  {
   "cell_type": "markdown",
   "metadata": {},
   "source": [
    "# Enthalpy Analysis of Blast Furnace\n",
    "The materials enter at temperature 298.15 K and will be increased to 1500 K in the blast furnace"
   ]
  },
  {
   "cell_type": "markdown",
   "metadata": {},
   "source": [
    "## Enthalpy of Ore"
   ]
  },
  {
   "cell_type": "code",
   "execution_count": 12,
   "metadata": {},
   "outputs": [],
   "source": [
    "T1 = 298 # K Inlet temperature\n",
    "T2 = 1500 # K outlet temperature\n",
    "\n",
    "def fe2o3_enthalpy_1(T):  # for T in the range of 298-950 K \n",
    "    t = T/1000\n",
    "    A = 93.43834\n",
    "    B = 108.3577\n",
    "    C = -50.86447\n",
    "    D = 25.58683\n",
    "    E = -1.611330\n",
    "    F = -863.2094   \n",
    "    G = 161.0719 \n",
    "    H_t = A*t +(B*t*t)/2 +(C*t*t*t)/3 + (D*t*t*t*t)/4-(E/t)+F\n",
    "    return H_t\n",
    "\n",
    "def fe2o3_enthalpy_2(T): # for T in the range of 950-1050 K \n",
    "    t = T/1000\n",
    "    A = 150.6240\n",
    "    B = 0\n",
    "    C = 0\n",
    "    D = 0\n",
    "    E = 0\n",
    "    F = -875.6066\n",
    "    G = 252.8814\n",
    "    H_t = A*t +(B*t*t)/2 +(C*t*t*t)/3 + (D*t*t*t*t)/4-(E/t)+F\n",
    "    return H_t\n",
    "\n",
    "def fe2o3_enthalpy_3(T):# for T in the range of 1050-2500 K \n",
    "    t = T/1000\n",
    "    A = 110.9362\n",
    "    B = 32.04714\n",
    "    C = -9.192333\n",
    "    D = 0.901506\n",
    "    E = 5.433677\n",
    "    F = -843.1471\n",
    "    G = 228.3548\n",
    "    H_t = A*t +(B*t*t)/2 +(C*t*t*t)/3 + (D*t*t*t*t)/4-(E/t)+F\n",
    "    return H_t\n",
    "\n",
    "if T1 in range(298,950):\n",
    "    h_fe2o3 = fe2o3_enthalpy_1(T1)\n",
    "elif T1 in range(950,1050):\n",
    "    h_fe2o3 = fe2o3_enthalpy_2(T1)\n",
    "elif T1 in range(1050,2500):\n",
    "    h_fe2o3 = fe2o3_enthalpy_3(T1)"
   ]
  },
  {
   "cell_type": "markdown",
   "metadata": {},
   "source": [
    "### Impurities Enthalpy"
   ]
  },
  {
   "cell_type": "code",
   "execution_count": 13,
   "metadata": {},
   "outputs": [],
   "source": [
    "def sio2_enthalpy_1(T): # for T in range between 298 and 847\n",
    "    t = T/1000\n",
    "    A = -6.076591\n",
    "    B = 251.6755\n",
    "    C = -324.7964\n",
    "    D = 168.5604\n",
    "    E = 0.002548\n",
    "    F = -917.6893\n",
    "    G = -27.96962  \n",
    "    H_t = A*t +(B*t*t)/2 +(C*t*t*t)/3 + (D*t*t*t*t)/4-(E/t)+F\n",
    "    return H_t\n",
    "\n",
    "def sio2_enthalpy_2(T):\n",
    "    t = T/1000\n",
    "    A = 58.75340\n",
    "    B = 10.27925\n",
    "    C = -0.131384\n",
    "    D = 0.025210\n",
    "    E = 0.025601\n",
    "    F = -929.3292\n",
    "    G = 105.8092   \n",
    "    H_t = A*t +(B*t*t)/2 +(C*t*t*t)/3 + (D*t*t*t*t)/4-(E/t)+F\n",
    "    return H_t\n",
    "\n",
    "if T1 in range(298,847):\n",
    "    h1_sio2 = sio2_enthalpy_1(T1)\n",
    "elif T1 in range(847,1996):\n",
    "    h1_sio2 = sio1_enthalpy_2(T1)\n",
    "\n",
    "if T2 in range(298,847):\n",
    "    h2_sio2 = sio2_enthalpy_1(T2)\n",
    "elif T2 in range(847,1996):\n",
    "    h2_sio2 = sio2_enthalpy_2(T2)\n"
   ]
  },
  {
   "cell_type": "code",
   "execution_count": 14,
   "metadata": {},
   "outputs": [],
   "source": [
    "def al2o3_enthalpy(T):\n",
    "    t = T/1000\n",
    "    A = 106.0880\n",
    "    B = 36.33740\n",
    "    C = -13.86730\n",
    "    D = 2.141221\n",
    "    E = -3.133231\n",
    "    F = -1705.970\n",
    "    G = 153.9350  \n",
    "    H_t = A*t +(B*t*t)/2 +(C*t*t*t)/3 + (D*t*t*t*t)/4-(E/t)+F\n",
    "    return H_t\n",
    "\n",
    "h1_al2o3 = al2o3_enthalpy(T1)\n",
    "h2_al2o3 = al2o3_enthalpy(T2) "
   ]
  },
  {
   "cell_type": "markdown",
   "metadata": {},
   "source": [
    "## Blast Air Enthalpy"
   ]
  },
  {
   "cell_type": "code",
   "execution_count": 15,
   "metadata": {},
   "outputs": [],
   "source": [
    "def o2_enthalpy_1(T):  # for T in the range of 298-700 K \n",
    "    t = T/1000\n",
    "    A = 31.32234\n",
    "    B = -20.23531\n",
    "    C = 57.86644\n",
    "    D = -36.50624\n",
    "    E = -0.007374\n",
    "    F = -8.903471   \n",
    "    G = 246.7945\n",
    "    H_t = A*t +(B*t*t)/2 +(C*t*t*t)/3 + (D*t*t*t*t)/4-(E/t)+F\n",
    "    return H_t\n",
    "\n",
    "def o2_enthalpy_2(T): # for T in the range of 700-2000 K \n",
    "    t = T/1000\n",
    "    A = 30.03235\n",
    "    B = 8.772972\n",
    "    C = -3.988133\n",
    "    D = 0.788313\n",
    "    E = -0.741599\n",
    "    F = -11.32468\n",
    "    G = 236.1663\n",
    "    H_t = A*t +(B*t*t)/2 +(C*t*t*t)/3 + (D*t*t*t*t)/4-(E/t)+F\n",
    "    return H_t\n",
    "\n",
    "def o2_enthalpy_3(T):# for T in the range of 2000-6000 K \n",
    "    t = T/1000\n",
    "    A = 20.91111\n",
    "    B = 10.72071\n",
    "    C = -2.020498\n",
    "    D = 0.146449\n",
    "    E = 9.245722\n",
    "    F = -5.337651\n",
    "    G = 237.6185\n",
    "    H_t = A*t +(B*t*t)/2 +(C*t*t*t)/3 + (D*t*t*t*t)/4-(E/t)+F\n",
    "    return H_t\n",
    "\n",
    "if T1 in range(100,700):\n",
    "    h_o2 = o2_enthalpy_1(T1)\n",
    "elif T1 in range(700,2000):\n",
    "    h_o2 = o2_enthalpy_2(T1)\n",
    "elif T1 in range(2000,6000):\n",
    "    h_o2 = o2_enthalpy_3(T1)"
   ]
  },
  {
   "cell_type": "code",
   "execution_count": 16,
   "metadata": {},
   "outputs": [],
   "source": [
    "def n2_enthalpy_1(T):  # for T in the range of 298-950 K \n",
    "    t = T/1000\n",
    "    A = 28.98641\n",
    "    B = 1.853978\n",
    "    C = -9.647459\n",
    "    D = 16.63537\n",
    "    E = 0.000117\n",
    "    F = -8.671914   \n",
    "    G = 226.418\n",
    "    H_t = A*t +(B*t*t)/2 +(C*t*t*t)/3 + (D*t*t*t*t)/4-(E/t)+F\n",
    "    return H_t\n",
    "\n",
    "def n2_enthalpy_2(T): # for T in the range of 1050-2500 K \n",
    "    t = T/1000\n",
    "    A = 19.50583\n",
    "    B = 19.88705\n",
    "    C = -8.598535\n",
    "    D = 1.369784\n",
    "    E = 0.527601\n",
    "    F = -4.935202\n",
    "    G = 212.3900\n",
    "    H_t = A*t +(B*t*t)/2 +(C*t*t*t)/3 + (D*t*t*t*t)/4-(E/t)+F\n",
    "    return H_t\n",
    "\n",
    "def n2_enthalpy_3(T):# for T in the range of 1050-2500 K \n",
    "    t = T/1000\n",
    "    A = 35.51872\n",
    "    B = 1.128728\n",
    "    C = -0.196103\n",
    "    D = 0.014662\n",
    "    E = -4.553760\n",
    "    F = -18.97091\n",
    "    G = 224.9810\n",
    "    H_t = A*t +(B*t*t)/2 +(C*t*t*t)/3 + (D*t*t*t*t)/4-(E/t)+F\n",
    "    return H_t\n",
    "\n",
    "if T2 in range(100,500):\n",
    "    h2_n2 = n2_enthalpy_1(T2)\n",
    "elif T2 in range(500,2000):\n",
    "    h2_n2 = n2_enthalpy_2(T2)\n",
    "elif T2 in range(2000,6000):\n",
    "    h2_n2 = n2_enthalpy_3(T2)\n",
    "\n",
    "if T1 in range(100,500):\n",
    "    h1_n2 = n2_enthalpy_1(T1)\n",
    "elif T1 in range(500,2000):\n",
    "    h1_n2 = n2_enthalpy_2(T1)\n",
    "elif T1 in range(2000,6000):\n",
    "    h1_n2 = n2_enthalpy_3(T1)"
   ]
  },
  {
   "cell_type": "markdown",
   "metadata": {},
   "source": [
    "## Carbon (Graphite) Enthalpy"
   ]
  },
  {
   "cell_type": "code",
   "execution_count": 17,
   "metadata": {},
   "outputs": [
    {
     "data": {
      "text/plain": [
       "[<matplotlib.lines.Line2D at 0x7f33b79ae6b0>]"
      ]
     },
     "execution_count": 17,
     "metadata": {},
     "output_type": "execute_result"
    },
    {
     "data": {
      "image/png": "[encoded data removed]",
      "text/plain": [
       "<Figure size 432x288 with 1 Axes>"
      ]
     },
     "metadata": {
      "needs_background": "light"
     },
     "output_type": "display_data"
    }
   ],
   "source": [
    "var = pd.read_excel('graphite_barin.xlsx')\n",
    "c_temp = var['Temperature'].array\n",
    "c_enthalpy = var['Enthalpy'].array\n",
    "\n",
    "x=np.array(c_temp)\n",
    "y=np.array(c_enthalpy)\n",
    "\n",
    "a, b = np.polyfit(x, y, 1)\n",
    "\n",
    "#add points to plot\n",
    "plt.scatter(x, y)\n",
    "\n",
    "#add line of best fit to plot\n",
    "plt.plot(x, a*x+b)\n"
   ]
  },
  {
   "cell_type": "code",
   "execution_count": 18,
   "metadata": {},
   "outputs": [],
   "source": [
    "def c_enthalpy(x):\n",
    "    H_t = a*x + b\n",
    "    return H_t\n",
    "\n",
    "if T1 <= 298:\n",
    "    h1_c = 0\n",
    "if T1 == 300:\n",
    "    h1_c = 0.016\n",
    "else:\n",
    "    h1_c = c_enthalpy(T1)\n",
    "\n",
    "if T2 <= 298:\n",
    "    h2_c = 0\n",
    "if T2 == 300:\n",
    "    h2_c = 0.016\n",
    "else:\n",
    "    h2_c = c_enthalpy(T2)"
   ]
  },
  {
   "cell_type": "markdown",
   "metadata": {},
   "source": [
    "## Iron Enthalpy"
   ]
  },
  {
   "cell_type": "code",
   "execution_count": 19,
   "metadata": {},
   "outputs": [],
   "source": [
    "def fe_enthalpy_1(T): # for T in the range of 298-1809 K \n",
    "    t = T/1000\n",
    "    A = 23.97449\n",
    "    B = 8.367750\n",
    "    C = 0.000277\n",
    "    D = -0.000088\n",
    "    E = -0.000005\n",
    "    F = 0.268027\n",
    "    G = 62.06336\n",
    "    H_t = A*t +(B*t*t)/2 +(C*t*t*t)/3 + (D*t*t*t*t)/4-(E/t)+F\n",
    "    return H_t\n",
    "def fe_enthalpy_2(T): # for T in the range of 1809-3133.345 K \n",
    "    t = T/1000\n",
    "    A = 46.02400\n",
    "    B = -1.884667e-8\n",
    "    C = 6.094750e-9\n",
    "    D = -6.640301e-10\n",
    "    E = -8.246121e-9\n",
    "    F = -10.80543\n",
    "    G = 72.54094\n",
    "    H_t = A*t +(B*t*t)/2 +(C*t*t*t)/3 + (D*t*t*t*t)/4-(E/t)+F\n",
    "    return H_t\n",
    "\n",
    "if T2 in range(298, 1809):\n",
    "    h_fe = fe_enthalpy_1(T2)\n",
    "elif T2 in range(1809, 3133.345):\n",
    "    h_fe = fe_enthalpy_2(T2)"
   ]
  },
  {
   "cell_type": "markdown",
   "metadata": {},
   "source": [
    "## Top Gas Enthalpy"
   ]
  },
  {
   "cell_type": "code",
   "execution_count": 20,
   "metadata": {},
   "outputs": [],
   "source": [
    "def co_enthalpy_1(T):  # for T in the range of 298-1300 K \n",
    "    t = T/1000\n",
    "    A = 25.56759\n",
    "    B = 6.096130\n",
    "    C = 4.054656\n",
    "    D = -2.671301\n",
    "    E = 0.131021\n",
    "    F = -118.0089   \n",
    "    G = 227.3665\n",
    "    H_t = A*t +(B*t*t)/2 +(C*t*t*t)/3 + (D*t*t*t*t)/4-(E/t)+F\n",
    "    return H_t\n",
    "\n",
    "def co_enthalpy_2(T): # for T in the range of 1300-6000 K \n",
    "    t = T/1000\n",
    "    A = 35.15070\n",
    "    B = 1.300095\n",
    "    C = -0.205921\n",
    "    D = 0.013550\n",
    "    E = -3.282780\n",
    "    F = -127.8375\n",
    "    G = 231.7120\n",
    "    H_t = A*t +(B*t*t)/2 +(C*t*t*t)/3 + (D*t*t*t*t)/4-(E/t)+F\n",
    "    return H_t\n",
    "\n",
    "if T2 in range(298,1300):\n",
    "    h_co = co_enthalpy_1(T2)\n",
    "elif T2 in range(1300,6000):\n",
    "    h_co = co_enthalpy_2(T2)"
   ]
  },
  {
   "cell_type": "code",
   "execution_count": 21,
   "metadata": {},
   "outputs": [],
   "source": [
    "def co2_enthalpy_1(T):  # for T1 in the range of 298-1300 K \n",
    "    t = T/1000\n",
    "    A = 24.99735\n",
    "    B = 55.18696\n",
    "    C = -33.69137\n",
    "    D = 7.948387\n",
    "    E = -0.136638\n",
    "    F = -403.6075   \n",
    "    G = 228.2431\n",
    "    H_t = A*t +(B*t*t)/2 +(C*t*t*t)/3 + (D*t*t*t*t)/4-(E/t)+F\n",
    "    return H_t\n",
    "\n",
    "def co2_enthalpy_2(T): # for T2 in the range of 1300-6000 K \n",
    "    t = T/1000\n",
    "    A = 58.16639\n",
    "    B = 2.720074\n",
    "    C = -0.492289\n",
    "    D = 0.038844\n",
    "    E = -6.447293\n",
    "    F = -425.9186\n",
    "    G = 263.6125\n",
    "    H_t = A*t +(B*t*t)/2 +(C*t*t*t)/3 + (D*t*t*t*t)/4-(E/t)+F\n",
    "    return H_t\n",
    "\n",
    "if T2 in range(298,1200):\n",
    "    h_co2 = co2_enthalpy_1(T2)\n",
    "elif T2 in range(1200,6000):\n",
    "    h_co2 = co2_enthalpy_2(T2)"
   ]
  },
  {
   "cell_type": "markdown",
   "metadata": {},
   "source": [
    "# Heat Required For The Blast Furnace"
   ]
  },
  {
   "cell_type": "code",
   "execution_count": 22,
   "metadata": {},
   "outputs": [
    {
     "name": "stdout",
     "output_type": "stream",
     "text": [
      "Heat required for the blast furnace: -1110.00304211598\n"
     ]
    }
   ],
   "source": [
    "Q = (soln[ns4_co]*h_co + soln[ns4_co2]*h_co2 + soln[ns6_al2o3]*h2_al2o3 + soln[ns6_sio2]*h2_sio2 + soln[ns4_n2]*h2_n2 \n",
    "     + soln[ns5_c]*h2_c + soln[ns5_fe]*h_fe - soln[ne1_fe2o3]*h_fe2o3 - soln[ne2_o2]*h_o2 - soln[ne2_n2]*h1_n2 - \n",
    "     soln[ne1_sio2]*h1_sio2 - soln[ne1_al2o3]*h1_al2o3 - soln[ne3_c]*h1_c - soln[ne3_sio2]*h1_sio2)\n",
    "\n",
    "print(\"Heat required for the blast furnace:\", Q) #kJ/s"
   ]
  },
  {
   "cell_type": "markdown",
   "metadata": {},
   "source": [
    "# Emissions Analysis\n",
    "what is the carbon footprint? In the US, 379 grams of CO2 per kWH. There will be two sources of emissions in this present calculator. First, the heat required to run the blast furnace which is given in the above cell and the emissions from producing the actual biocoke."
   ]
  },
  {
   "cell_type": "code",
   "execution_count": 23,
   "metadata": {
    "scrolled": true
   },
   "outputs": [
    {
     "name": "stdout",
     "output_type": "stream",
     "text": [
      "the amount of CO2 produce per ton of iron: 0.00109294149849650\n"
     ]
    }
   ],
   "source": [
    "hours_of_bf_use = 1 # hour\n",
    "co2_emissions = 379 # gCO2/kWH\n",
    "energy_bf_kWH = Q*hours_of_bf_use/3600 # kWH\n",
    "biocoke_prod = 6.6606886 # amount of biocoke produced mol\n",
    "biocoke_ratio = soln[ne3_c]/biocoke_prod # ratio between amount of coke needed and experimental biocoke produced\n",
    "energy_coke_kWH = biocoke_ratio*(0.598522814 + 0.031603) # energy from the 2 different dehydration\n",
    "\n",
    "co2_prod_heat = co2_emissions*energy_bf_kWH/1e6 # tons of CO2 produced in this furnace\n",
    "co2_prod_coke = co2_emissions*energy_coke_kWH/1e6 # tons of CO2 produced through biocoke\n",
    "\n",
    "co2_per_ton_iron = (co2_prod_heat + co2_prod_coke)/fe_ton_s\n",
    "\n",
    "print(\"the amount of CO2 produce per ton of iron:\", co2_per_ton_iron)"
   ]
  }
 ],
 "metadata": {
  "kernelspec": {
   "display_name": "Python 3 (ipykernel)",
   "language": "python",
   "name": "python3"
  },
  "language_info": {
   "codemirror_mode": {
    "name": "ipython",
    "version": 3
   },
   "file_extension": ".py",
   "mimetype": "text/x-python",
   "name": "python",
   "nbconvert_exporter": "python",
   "pygments_lexer": "ipython3",
   "version": "3.10.4"
  }
 },
 "nbformat": 4,
 "nbformat_minor": 2
}
